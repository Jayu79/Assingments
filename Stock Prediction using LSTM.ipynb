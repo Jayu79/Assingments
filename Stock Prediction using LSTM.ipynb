{
 "cells": [
  {
   "cell_type": "code",
   "execution_count": 10,
   "metadata": {},
   "outputs": [],
   "source": [
    "import tensorflow as tf\n",
    "import numpy as np\n",
    "import matplotlib.pyplot as plt\n",
    "import pandas as pd\n",
    "from sklearn.model_selection import train_test_split\n",
    "from sklearn.preprocessing import MinMaxScaler"
   ]
  },
  {
   "cell_type": "code",
   "execution_count": 68,
   "metadata": {},
   "outputs": [
    {
     "data": {
      "text/html": [
       "<div>\n",
       "<style scoped>\n",
       "    .dataframe tbody tr th:only-of-type {\n",
       "        vertical-align: middle;\n",
       "    }\n",
       "\n",
       "    .dataframe tbody tr th {\n",
       "        vertical-align: top;\n",
       "    }\n",
       "\n",
       "    .dataframe thead th {\n",
       "        text-align: right;\n",
       "    }\n",
       "</style>\n",
       "<table border=\"1\" class=\"dataframe\">\n",
       "  <thead>\n",
       "    <tr style=\"text-align: right;\">\n",
       "      <th></th>\n",
       "      <th>Date</th>\n",
       "      <th>Open</th>\n",
       "      <th>High</th>\n",
       "      <th>Low</th>\n",
       "      <th>Close</th>\n",
       "      <th>Adj Close</th>\n",
       "      <th>Volume</th>\n",
       "    </tr>\n",
       "  </thead>\n",
       "  <tbody>\n",
       "    <tr>\n",
       "      <th>0</th>\n",
       "      <td>2014-12-31</td>\n",
       "      <td>112.820000</td>\n",
       "      <td>113.129997</td>\n",
       "      <td>110.209999</td>\n",
       "      <td>110.379997</td>\n",
       "      <td>101.419060</td>\n",
       "      <td>41403400</td>\n",
       "    </tr>\n",
       "    <tr>\n",
       "      <th>1</th>\n",
       "      <td>2015-01-02</td>\n",
       "      <td>111.389999</td>\n",
       "      <td>111.440002</td>\n",
       "      <td>107.349998</td>\n",
       "      <td>109.330002</td>\n",
       "      <td>100.454300</td>\n",
       "      <td>53204600</td>\n",
       "    </tr>\n",
       "    <tr>\n",
       "      <th>2</th>\n",
       "      <td>2015-01-05</td>\n",
       "      <td>108.290001</td>\n",
       "      <td>108.650002</td>\n",
       "      <td>105.410004</td>\n",
       "      <td>106.250000</td>\n",
       "      <td>97.624336</td>\n",
       "      <td>64285500</td>\n",
       "    </tr>\n",
       "    <tr>\n",
       "      <th>3</th>\n",
       "      <td>2015-01-06</td>\n",
       "      <td>106.540001</td>\n",
       "      <td>107.430000</td>\n",
       "      <td>104.629997</td>\n",
       "      <td>106.260002</td>\n",
       "      <td>97.633545</td>\n",
       "      <td>65797100</td>\n",
       "    </tr>\n",
       "    <tr>\n",
       "      <th>4</th>\n",
       "      <td>2015-01-07</td>\n",
       "      <td>107.199997</td>\n",
       "      <td>108.199997</td>\n",
       "      <td>106.699997</td>\n",
       "      <td>107.750000</td>\n",
       "      <td>99.002556</td>\n",
       "      <td>40105900</td>\n",
       "    </tr>\n",
       "  </tbody>\n",
       "</table>\n",
       "</div>"
      ],
      "text/plain": [
       "         Date        Open        High         Low       Close   Adj Close  \\\n",
       "0  2014-12-31  112.820000  113.129997  110.209999  110.379997  101.419060   \n",
       "1  2015-01-02  111.389999  111.440002  107.349998  109.330002  100.454300   \n",
       "2  2015-01-05  108.290001  108.650002  105.410004  106.250000   97.624336   \n",
       "3  2015-01-06  106.540001  107.430000  104.629997  106.260002   97.633545   \n",
       "4  2015-01-07  107.199997  108.199997  106.699997  107.750000   99.002556   \n",
       "\n",
       "     Volume  \n",
       "0  41403400  \n",
       "1  53204600  \n",
       "2  64285500  \n",
       "3  65797100  \n",
       "4  40105900  "
      ]
     },
     "execution_count": 68,
     "metadata": {},
     "output_type": "execute_result"
    }
   ],
   "source": [
    "data = pd.read_csv('AAPL.CSV')\n",
    "data.head()"
   ]
  },
  {
   "cell_type": "code",
   "execution_count": 69,
   "metadata": {},
   "outputs": [],
   "source": [
    "x = data.iloc[:,1:2].values"
   ]
  },
  {
   "cell_type": "code",
   "execution_count": 70,
   "metadata": {},
   "outputs": [],
   "source": [
    "sc = MinMaxScaler(feature_range=(0,1))\n",
    "x = sc.fit_transform(x)"
   ]
  },
  {
   "cell_type": "code",
   "execution_count": 71,
   "metadata": {},
   "outputs": [
    {
     "data": {
      "text/plain": [
       "array([[0.1134646 ],\n",
       "       [0.10635441],\n",
       "       [0.09094074],\n",
       "       [0.08223947],\n",
       "       [0.08552107],\n",
       "       [0.09561458],\n",
       "       [0.11271877],\n",
       "       [0.11237072],\n",
       "       [0.1065533 ],\n",
       "       [0.09466986]])"
      ]
     },
     "execution_count": 71,
     "metadata": {},
     "output_type": "execute_result"
    }
   ],
   "source": [
    "x[:10]"
   ]
  },
  {
   "cell_type": "code",
   "execution_count": 72,
   "metadata": {},
   "outputs": [
    {
     "data": {
      "text/plain": [
       "1259"
      ]
     },
     "execution_count": 72,
     "metadata": {},
     "output_type": "execute_result"
    }
   ],
   "source": [
    "len(x)"
   ]
  },
  {
   "cell_type": "code",
   "execution_count": 73,
   "metadata": {},
   "outputs": [],
   "source": [
    "x_train = []\n",
    "y_train = []\n",
    "for i in range(25,1259):\n",
    "    x_train.append(x[i-25:i,0])\n",
    "    y_train.append(x[i,0])"
   ]
  },
  {
   "cell_type": "code",
   "execution_count": 74,
   "metadata": {},
   "outputs": [
    {
     "data": {
      "text/plain": [
       "array([0.1134646 , 0.10635441, 0.09094074, 0.08223947, 0.08552107,\n",
       "       0.09561458, 0.11271877, 0.11237072, 0.1065533 , 0.09466986,\n",
       "       0.09944312, 0.08467581, 0.08870324, 0.09422234, 0.10073589,\n",
       "       0.11087909, 0.11803897, 0.11147573, 0.13738066, 0.13086715,\n",
       "       0.14120924, 0.13946899, 0.14170645, 0.14170645, 0.14926411])"
      ]
     },
     "execution_count": 74,
     "metadata": {},
     "output_type": "execute_result"
    }
   ],
   "source": [
    "x_train[0]"
   ]
  },
  {
   "cell_type": "code",
   "execution_count": 75,
   "metadata": {},
   "outputs": [
    {
     "data": {
      "text/plain": [
       "0.1492641097171865"
      ]
     },
     "execution_count": 75,
     "metadata": {},
     "output_type": "execute_result"
    }
   ],
   "source": [
    "y_train[0]"
   ]
  },
  {
   "cell_type": "code",
   "execution_count": 76,
   "metadata": {},
   "outputs": [],
   "source": [
    "x_train,y_train = np.array(x_train),np.array(y_train)"
   ]
  },
  {
   "cell_type": "code",
   "execution_count": 77,
   "metadata": {},
   "outputs": [
    {
     "data": {
      "text/plain": [
       "array([[0.1134646 , 0.10635441, 0.09094074, ..., 0.14170645, 0.14170645,\n",
       "        0.14926411],\n",
       "       [0.10635441, 0.09094074, 0.08223947, ..., 0.14170645, 0.14926411,\n",
       "        0.14926411],\n",
       "       [0.09094074, 0.08223947, 0.08552107, ..., 0.14926411, 0.14926411,\n",
       "        0.14195507],\n",
       "       ...,\n",
       "       [0.87281232, 0.86361379, 0.85814439, ..., 0.94734489, 0.96802907,\n",
       "        0.96867548],\n",
       "       [0.86361379, 0.85814439, 0.85874103, ..., 0.96802907, 0.96867548,\n",
       "        1.        ],\n",
       "       [0.85814439, 0.85874103, 0.8797733 , ..., 0.96867548, 1.        ,\n",
       "        0.9917462 ]])"
      ]
     },
     "execution_count": 77,
     "metadata": {},
     "output_type": "execute_result"
    }
   ],
   "source": [
    "x_train"
   ]
  },
  {
   "cell_type": "code",
   "execution_count": 78,
   "metadata": {},
   "outputs": [],
   "source": [
    "x_train = np.reshape(x_train, (x_train.shape[0], x_train.shape[1], 1))"
   ]
  },
  {
   "cell_type": "code",
   "execution_count": 79,
   "metadata": {},
   "outputs": [
    {
     "data": {
      "text/plain": [
       "array([[[0.1134646 ],\n",
       "        [0.10635441],\n",
       "        [0.09094074],\n",
       "        ...,\n",
       "        [0.14170645],\n",
       "        [0.14170645],\n",
       "        [0.14926411]],\n",
       "\n",
       "       [[0.10635441],\n",
       "        [0.09094074],\n",
       "        [0.08223947],\n",
       "        ...,\n",
       "        [0.14170645],\n",
       "        [0.14926411],\n",
       "        [0.14926411]],\n",
       "\n",
       "       [[0.09094074],\n",
       "        [0.08223947],\n",
       "        [0.08552107],\n",
       "        ...,\n",
       "        [0.14926411],\n",
       "        [0.14926411],\n",
       "        [0.14195507]],\n",
       "\n",
       "       ...,\n",
       "\n",
       "       [[0.87281232],\n",
       "        [0.86361379],\n",
       "        [0.85814439],\n",
       "        ...,\n",
       "        [0.94734489],\n",
       "        [0.96802907],\n",
       "        [0.96867548]],\n",
       "\n",
       "       [[0.86361379],\n",
       "        [0.85814439],\n",
       "        [0.85874103],\n",
       "        ...,\n",
       "        [0.96802907],\n",
       "        [0.96867548],\n",
       "        [1.        ]],\n",
       "\n",
       "       [[0.85814439],\n",
       "        [0.85874103],\n",
       "        [0.8797733 ],\n",
       "        ...,\n",
       "        [0.96867548],\n",
       "        [1.        ],\n",
       "        [0.9917462 ]]])"
      ]
     },
     "execution_count": 79,
     "metadata": {},
     "output_type": "execute_result"
    }
   ],
   "source": [
    "x_train"
   ]
  },
  {
   "cell_type": "code",
   "execution_count": 80,
   "metadata": {},
   "outputs": [],
   "source": [
    "model = tf.keras.models.Sequential([\n",
    "    tf.keras.layers.LSTM(50,return_sequences=True , input_shape = (x_train.shape[1],1)),\n",
    "    tf.keras.layers.Dropout(0.5),\n",
    "    tf.keras.layers.LSTM(50,return_sequences=True),\n",
    "    tf.keras.layers.Dropout(0.4),\n",
    "    tf.keras.layers.LSTM(50,return_sequences=True),\n",
    "    tf.keras.layers.Dropout(0.3),\n",
    "    tf.keras.layers.LSTM(50),\n",
    "    tf.keras.layers.Dropout(0.2),\n",
    "    tf.keras.layers.Dense(1)\n",
    "])"
   ]
  },
  {
   "cell_type": "code",
   "execution_count": 81,
   "metadata": {},
   "outputs": [],
   "source": [
    "model.compile(optimizer = 'adam',\n",
    "             loss = 'mean_squared_error')"
   ]
  },
  {
   "cell_type": "code",
   "execution_count": 82,
   "metadata": {},
   "outputs": [
    {
     "name": "stdout",
     "output_type": "stream",
     "text": [
      "Model: \"sequential_4\"\n",
      "_________________________________________________________________\n",
      "Layer (type)                 Output Shape              Param #   \n",
      "=================================================================\n",
      "lstm_16 (LSTM)               (None, 25, 50)            10400     \n",
      "_________________________________________________________________\n",
      "dropout_16 (Dropout)         (None, 25, 50)            0         \n",
      "_________________________________________________________________\n",
      "lstm_17 (LSTM)               (None, 25, 50)            20200     \n",
      "_________________________________________________________________\n",
      "dropout_17 (Dropout)         (None, 25, 50)            0         \n",
      "_________________________________________________________________\n",
      "lstm_18 (LSTM)               (None, 25, 50)            20200     \n",
      "_________________________________________________________________\n",
      "dropout_18 (Dropout)         (None, 25, 50)            0         \n",
      "_________________________________________________________________\n",
      "lstm_19 (LSTM)               (None, 50)                20200     \n",
      "_________________________________________________________________\n",
      "dropout_19 (Dropout)         (None, 50)                0         \n",
      "_________________________________________________________________\n",
      "dense_4 (Dense)              (None, 1)                 51        \n",
      "=================================================================\n",
      "Total params: 71,051\n",
      "Trainable params: 71,051\n",
      "Non-trainable params: 0\n",
      "_________________________________________________________________\n"
     ]
    }
   ],
   "source": [
    "model.summary()"
   ]
  },
  {
   "cell_type": "code",
   "execution_count": 83,
   "metadata": {},
   "outputs": [
    {
     "name": "stdout",
     "output_type": "stream",
     "text": [
      "Train on 1234 samples\n",
      "Epoch 1/10\n",
      "1234/1234 [==============================] - 13s 11ms/sample - loss: 0.0608\n",
      "Epoch 2/10\n",
      "1234/1234 [==============================] - 2s 1ms/sample - loss: 0.0147\n",
      "Epoch 3/10\n",
      "1234/1234 [==============================] - 2s 1ms/sample - loss: 0.0073\n",
      "Epoch 4/10\n",
      "1234/1234 [==============================] - 2s 1ms/sample - loss: 0.0055\n",
      "Epoch 5/10\n",
      "1234/1234 [==============================] - 2s 2ms/sample - loss: 0.0051\n",
      "Epoch 6/10\n",
      "1234/1234 [==============================] - 2s 1ms/sample - loss: 0.0043\n",
      "Epoch 7/10\n",
      "1234/1234 [==============================] - 2s 1ms/sample - loss: 0.0039\n",
      "Epoch 8/10\n",
      "1234/1234 [==============================] - 2s 1ms/sample - loss: 0.0036\n",
      "Epoch 9/10\n",
      "1234/1234 [==============================] - 2s 1ms/sample - loss: 0.0035\n",
      "Epoch 10/10\n",
      "1234/1234 [==============================] - 2s 1ms/sample - loss: 0.0034\n"
     ]
    }
   ],
   "source": [
    "history = model.fit(x_train,y_train,epochs=10,batch_size = 128)"
   ]
  },
  {
   "cell_type": "code",
   "execution_count": 84,
   "metadata": {},
   "outputs": [],
   "source": [
    "predictions = model.predict(x_train)"
   ]
  },
  {
   "cell_type": "code",
   "execution_count": 85,
   "metadata": {},
   "outputs": [
    {
     "data": {
      "text/plain": [
       "[<matplotlib.lines.Line2D at 0x1c2cb498240>]"
      ]
     },
     "execution_count": 85,
     "metadata": {},
     "output_type": "execute_result"
    },
    {
     "data": {
      "image/png": "[encoded data removed]",
      "text/plain": [
       "<Figure size 432x288 with 1 Axes>"
      ]
     },
     "metadata": {
      "needs_background": "light"
     },
     "output_type": "display_data"
    }
   ],
   "source": [
    "plt.plot(range(len(x_train)), y_train, c='g')\n",
    "plt.plot(range(len(x_train)), predictions, c='r')"
   ]
  },
  {
   "cell_type": "code",
   "execution_count": null,
   "metadata": {},
   "outputs": [],
   "source": []
  }
 ],
 "metadata": {
  "kernelspec": {
   "display_name": "Python 3",
   "language": "python",
   "name": "python3"
  },
  "language_info": {
   "codemirror_mode": {
    "name": "ipython",
    "version": 3
   },
   "file_extension": ".py",
   "mimetype": "text/x-python",
   "name": "python",
   "nbconvert_exporter": "python",
   "pygments_lexer": "ipython3",
   "version": "3.7.3"
  }
 },
 "nbformat": 4,
 "nbformat_minor": 2
}
